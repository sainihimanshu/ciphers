{
 "cells": [
  {
   "cell_type": "code",
   "execution_count": 3,
   "metadata": {
    "collapsed": false
   },
   "outputs": [],
   "source": [
    "#For Galios Field Multiplication \n",
    "# useful in mix column operation\n",
    "def mul_by_02(num):\n",
    "    if num < 0x80:\n",
    "        res = (num << 1)\n",
    "    else:\n",
    "        res = (num << 1) ^ 0x1b\n",
    "\n",
    "    return res % 0x100\n",
    "\n",
    "mul_by_03 = lambda num: (mul_by_02(num) ^ num)\n",
    "\n",
    "mul_by_09 = lambda num:  mul_by_02(mul_by_02(mul_by_02(num))) ^ num\n",
    "\n",
    "mul_by_0b = lambda num: mul_by_02(mul_by_02(mul_by_02(num))) ^ mul_by_02(num) ^ num\n",
    "\n",
    "mul_by_0d = lambda num: mul_by_02(mul_by_02(mul_by_02(num))) ^ mul_by_02(mul_by_02(num)) ^ num\n",
    "\n",
    "mul_by_0e = lambda num:  mul_by_02(mul_by_02(mul_by_02(num))) ^ mul_by_02(mul_by_02(num)) ^ mul_by_02(num)\n",
    "\n",
    "\"\"\"Rotate the array over count times\"\"\"\n",
    "left_shift = lambda array, count: array[count:] + array[:count]\n",
    "\n",
    "\"\"\"Rotate the array over count times\"\"\"\n",
    "right_shift = lambda array, count: array[len(array) - count:] + array[:len(array) - count]"
   ]
  },
  {
   "cell_type": "code",
   "execution_count": 4,
   "metadata": {
    "collapsed": false
   },
   "outputs": [],
   "source": [
    "# four key operations\n",
    "from random import *\n",
    "\n",
    "def add_round_key(state, key_schedule, round=0):\n",
    "\n",
    "    for col in range(nk):\n",
    "        s0 = state[0][col] ^ key_schedule[0][nb * round + col]\n",
    "        s1 = state[1][col] ^ key_schedule[1][nb * round + col]\n",
    "        s2 = state[2][col] ^ key_schedule[2][nb * round + col]\n",
    "        s3 = state[3][col] ^ key_schedule[3][nb * round + col]\n",
    "\n",
    "        state[0][col] = s0\n",
    "        state[1][col] = s1\n",
    "        state[2][col] = s2\n",
    "        state[3][col] = s3\n",
    "\n",
    "    return state\n",
    "\n",
    "def sub_bytes(state, inv=False):\n",
    "\n",
    "    if inv == False: \n",
    "        box = sbox\n",
    "    else: \n",
    "        box = sboxi\n",
    "\n",
    "    for i in range(len(state)):\n",
    "        for j in range(len(state[i])):\n",
    "            row = state[i][j] // 0x10\n",
    "            col = state[i][j] % 0x10\n",
    "            box_elem = box[16 * row + col]\n",
    "            state[i][j] = box_elem\n",
    "\n",
    "    return state\n",
    "\n",
    "\n",
    "def shift_rows(state, inv=False):\n",
    "    count = 1\n",
    "\n",
    "    if inv == False: \n",
    "        for i in range(1, nb):\n",
    "            state[i] = left_shift(state[i], count)\n",
    "            count += 1\n",
    "    else:  \n",
    "        for i in range(1, nb):\n",
    "            state[i] = right_shift(state[i], count)\n",
    "            count += 1\n",
    "\n",
    "    return state\n",
    "\n",
    "\n",
    "def mix_columns(state, inv=False):\n",
    "    \n",
    "    for i in range(nb):\n",
    "\n",
    "        if inv == False:  \n",
    "            s0 = mul_by_02(state[0][i]) ^ mul_by_03(state[1][i]) ^ state[2][i] ^ state[3][i]\n",
    "            s1 = state[0][i] ^ mul_by_02(state[1][i]) ^ mul_by_03(state[2][i]) ^ state[3][i]\n",
    "            s2 = state[0][i] ^ state[1][i] ^ mul_by_02(state[2][i]) ^ mul_by_03(state[3][i])\n",
    "            s3 = mul_by_03(state[0][i]) ^ state[1][i] ^ state[2][i] ^ mul_by_02(state[3][i])\n",
    "        else:  \n",
    "            s0 = mul_by_0e(state[0][i]) ^ mul_by_0b(state[1][i]) ^ mul_by_0d(state[2][i]) ^ mul_by_09(state[3][i])\n",
    "            s1 = mul_by_09(state[0][i]) ^ mul_by_0e(state[1][i]) ^ mul_by_0b(state[2][i]) ^ mul_by_0d(state[3][i])\n",
    "            s2 = mul_by_0d(state[0][i]) ^ mul_by_09(state[1][i]) ^ mul_by_0e(state[2][i]) ^ mul_by_0b(state[3][i])\n",
    "            s3 = mul_by_0b(state[0][i]) ^ mul_by_0d(state[1][i]) ^ mul_by_09(state[2][i]) ^ mul_by_0e(state[3][i])\n",
    "\n",
    "        state[0][i] = s0\n",
    "        state[1][i] = s1\n",
    "        state[2][i] = s2\n",
    "        state[3][i] = s3\n",
    "\n",
    "    return state"
   ]
  },
  {
   "cell_type": "code",
   "execution_count": 5,
   "metadata": {
    "collapsed": false
   },
   "outputs": [],
   "source": [
    "from aes_helper import *\n",
    "\n",
    "def key_expansion(key):\n",
    "\n",
    "    key_symbols = [ord(symbol) for symbol in key]\n",
    "\n",
    "    key_schedule = [[] for i in range(4)]\n",
    "    for r in range(4):\n",
    "        for c in range(nk):\n",
    "            key_schedule[r].append(key_symbols[r + 4 * c])\n",
    "\n",
    "    for col in range(nk, nb * (nr + 1)): \n",
    "        if col % nk == 0:\n",
    "            tmp = [key_schedule[row][col - 1] for row in range(1, 4)]\n",
    "            tmp.append(key_schedule[0][col - 1])\n",
    "\n",
    "            for j in range(len(tmp)):\n",
    "                sbox_row = tmp[j] // 0x10\n",
    "                sbox_col = tmp[j] % 0x10\n",
    "                sbox_elem = sbox[16 * sbox_row + sbox_col]\n",
    "                tmp[j] = sbox_elem\n",
    "\n",
    "            for row in range(4):\n",
    "                s = (key_schedule[row][col - 4]) ^ (tmp[row]) ^ (rcon[row][int(col / nk - 1)])\n",
    "                key_schedule[row].append(s)\n",
    "        else:\n",
    "            for row in range(4):\n",
    "                s = key_schedule[row][col - 4] ^ key_schedule[row][col - 1]\n",
    "                key_schedule[row].append(s)\n",
    "\n",
    "    return key_schedule\n",
    "\n",
    "\n",
    "def encrypt(msg, key):\n",
    "    #key - str; msg - str\n",
    "\n",
    "    msg = [ord(m) for m in msg]\n",
    "\n",
    "    # breaking data in 4x4 block\n",
    "    state = [[] for j in range(4)]\n",
    "    for r in range(4):\n",
    "        for c in range(nb):\n",
    "            state[r].append(msg[r + 4 * c])\n",
    "\n",
    "    key_schedule = key_expansion(key)\n",
    "\n",
    "    state = add_round_key(state, key_schedule)\n",
    "\n",
    "    for rnd in range(1, nr):\n",
    "        state = sub_bytes(state)\n",
    "        state = shift_rows(state)\n",
    "        state = mix_columns(state)\n",
    "        state = add_round_key(state, key_schedule, rnd)\n",
    "\n",
    "    state = sub_bytes(state)\n",
    "    state = shift_rows(state)\n",
    "    state = add_round_key(state, key_schedule, rnd + 1)\n",
    "\n",
    "    et = [0 for i in range(4 * nb)]\n",
    "\n",
    "    for r in range(4):\n",
    "        for c in range(nb):\n",
    "            et[r + 4 * c] = state[r][c]\n",
    "\n",
    "    return \"\".join([chr(e) for e in et])\n",
    "\n",
    "\n",
    "def decrypt(cipher, key):\n",
    "\n",
    "    cipher = [ord(m) for m in cipher]\n",
    "\n",
    "    state = [[] for i in range(nb)]\n",
    "    for r in range(4):\n",
    "        for c in range(nb):\n",
    "            state[r].append(cipher[r + 4 * c])\n",
    "\n",
    "    key_schedule = key_expansion(key)\n",
    "\n",
    "    state = add_round_key(state, key_schedule, nr)\n",
    "\n",
    "    rnd = nr - 1\n",
    "    while rnd >= 1:\n",
    "        state = shift_rows(state, inv=True)\n",
    "        state = sub_bytes(state, inv=True)\n",
    "        state = add_round_key(state, key_schedule, rnd)\n",
    "        state = mix_columns(state, inv=True)\n",
    "\n",
    "        rnd -= 1\n",
    "\n",
    "    state = shift_rows(state, inv=True)\n",
    "    state = sub_bytes(state, inv=True)\n",
    "    state = add_round_key(state, key_schedule, rnd)\n",
    "\n",
    "    pt = [None for i in range(4 * nb)]\n",
    "    for r in range(4):\n",
    "        for c in range(nb):\n",
    "            pt[r + 4 * c] = state[r][c]\n",
    "\n",
    "    return \"\".join([chr(p) for p in pt])\n"
   ]
  },
  {
   "cell_type": "code",
   "execution_count": 6,
   "metadata": {
    "collapsed": true
   },
   "outputs": [],
   "source": [
    "def main():\n",
    "    msg = raw_input(\"Enter a message to encrypt: \")\n",
    "    lm = len(msg)\n",
    "\n",
    "    #msg padding with 0\n",
    "    if len(msg)%16 != 0:\n",
    "        msg += \"z\"*(16 - len(msg)%16)\n",
    "\n",
    "    key = [ chr(choice(range(ord(\"A\"), ord(\"Z\") ))) for i in range(16) ] #16 random alphabets for key\n",
    "    keyStr = \"\".join(key) #key in str format\n",
    "    keyNum = [ord(i) for i in key] \n",
    "\n",
    "    et = encrypt(msg, key)\n",
    "    print(\"Encrypted Text: {0}\\n\".format(et))\n",
    "\n",
    "    pt = decrypt(et, key)\n",
    "    print(\"Decrypted Text: {0}\\n\".format(pt[0:lm]))"
   ]
  },
  {
   "cell_type": "code",
   "execution_count": 7,
   "metadata": {
    "collapsed": false
   },
   "outputs": [
    {
     "name": "stdout",
     "output_type": "stream",
     "text": [
      "Enter a message to encrypt: jljl\n",
      "Encrypted Text: F���&����&�{�Q�\n",
      "\n",
      "Decrypted Text: jljl\n",
      "\n"
     ]
    }
   ],
   "source": [
    "main()"
   ]
  },
  {
   "cell_type": "code",
   "execution_count": 27,
   "metadata": {
    "collapsed": true
   },
   "outputs": [],
   "source": [
    "key = [ chr(choice(range(ord(\"A\"), ord(\"Z\") ))) for i in range(16) ] #16 random alphabets for key\n",
    "keyStr = \"\".join(key) #key in str format\n",
    "keyNum = [ord(i) for i in key] "
   ]
  },
  {
   "cell_type": "code",
   "execution_count": 30,
   "metadata": {
    "collapsed": false
   },
   "outputs": [
    {
     "data": {
      "text/plain": [
       "44"
      ]
     },
     "execution_count": 30,
     "metadata": {},
     "output_type": "execute_result"
    }
   ],
   "source": [
    "keyStr\n",
    "len(key_expansion(keyStr)[0])"
   ]
  },
  {
   "cell_type": "code",
   "execution_count": null,
   "metadata": {
    "collapsed": true
   },
   "outputs": [],
   "source": []
  }
 ],
 "metadata": {
  "kernelspec": {
   "display_name": "Python 2",
   "language": "python",
   "name": "python2"
  },
  "language_info": {
   "codemirror_mode": {
    "name": "ipython",
    "version": 2
   },
   "file_extension": ".py",
   "mimetype": "text/x-python",
   "name": "python",
   "nbconvert_exporter": "python",
   "pygments_lexer": "ipython2",
   "version": "2.7.10"
  }
 },
 "nbformat": 4,
 "nbformat_minor": 0
}
